{
 "cells": [
  {
   "cell_type": "code",
   "execution_count": 5,
   "metadata": {},
   "outputs": [],
   "source": [
    "import numpy as np\n",
    "import torch\n",
    "from torch import nn"
   ]
  },
  {
   "cell_type": "code",
   "execution_count": 94,
   "metadata": {},
   "outputs": [
    {
     "data": {
      "text/plain": [
       "(torch.Size([2000, 1600]), tensor(0), tensor(0.2003))"
      ]
     },
     "execution_count": 94,
     "metadata": {},
     "output_type": "execute_result"
    }
   ],
   "source": [
    "# Dropout\n",
    "m = nn.Dropout(p=0.2)\n",
    "input = torch.randn(2000, 1600)\n",
    "output = m(input)\n",
    "input.shape, (input == 0).sum(), (output == 0).sum() / output.numel()"
   ]
  },
  {
   "cell_type": "code",
   "execution_count": 97,
   "metadata": {},
   "outputs": [
    {
     "data": {
      "text/plain": [
       "torch.Size([5, 10, 8])"
      ]
     },
     "execution_count": 97,
     "metadata": {},
     "output_type": "execute_result"
    }
   ],
   "source": [
    "# Linear\n",
    "x = torch.rand((5, 10, 7))\n",
    "l = nn.Linear(7, 8)\n",
    "y = l(x)\n",
    "y.shape"
   ]
  },
  {
   "cell_type": "code",
   "execution_count": 100,
   "metadata": {},
   "outputs": [
    {
     "name": "stdout",
     "output_type": "stream",
     "text": [
      "tensor([[-0.2459,  0.3107, -0.1120],\n",
      "        [ 0.6032,  0.1166,  1.6144]])\n",
      "tensor([[0.2572, 0.4487, 0.2941],\n",
      "        [0.2292, 0.1409, 0.6300]])\n",
      "tensor([[1.],\n",
      "        [1.]])\n"
     ]
    }
   ],
   "source": [
    "# Softmax\n",
    "m = nn.Softmax(dim=1)\n",
    "input = torch.randn(2, 3)\n",
    "output = m(input)\n",
    "print(input)\n",
    "print(output)\n",
    "print(output.sum(1, keepdim=True))"
   ]
  },
  {
   "cell_type": "code",
   "execution_count": 103,
   "metadata": {},
   "outputs": [
    {
     "name": "stdout",
     "output_type": "stream",
     "text": [
      "B = 8. C = 3. H = 224. W = 224\n",
      "torch.Size([8, 192, 14, 14])\n",
      "torch.Size([8, 196, 192])\n",
      "torch.Size([192, 3, 16, 16]) 147456 torch.Size([192])\n"
     ]
    }
   ],
   "source": [
    "# PatchEmbedding\n",
    "image_size = 224, 224\n",
    "patch_size = 16\n",
    "embed_dim = 192\n",
    "channels = 3\n",
    "grid_size = image_size[0] // patch_size, image_size[1] // patch_size\n",
    "num_patches = grid_size[0] * grid_size[1]\n",
    "proj = nn.Conv2d(channels, embed_dim, kernel_size=patch_size, stride=patch_size)\n",
    "\n",
    "im = torch.rand((8, 3, *image_size))\n",
    "B, C, H, W = im.shape\n",
    "print(f'B = {B}. C = {C}. H = {H}. W = {W}')\n",
    "x = proj(im)\n",
    "print(x.shape)\n",
    "x = x.flatten(2).transpose(1, 2)\n",
    "print(x.shape)\n",
    "print(proj.weight.shape, proj.weight.numel(), proj.bias.shape)"
   ]
  },
  {
   "cell_type": "code",
   "execution_count": 108,
   "metadata": {},
   "outputs": [
    {
     "data": {
      "text/plain": [
       "tensor([0.0000, 0.0091, 0.0182, 0.0273, 0.0364, 0.0455, 0.0545, 0.0636, 0.0727,\n",
       "        0.0818, 0.0909, 0.1000])"
      ]
     },
     "execution_count": 108,
     "metadata": {},
     "output_type": "execute_result"
    }
   ],
   "source": [
    "# linspace\n",
    "torch.linspace(0, 0.1, 12)"
   ]
  },
  {
   "cell_type": "code",
   "execution_count": 4,
   "metadata": {},
   "outputs": [
    {
     "name": "stdout",
     "output_type": "stream",
     "text": [
      "torch.Size([20, 10, 10, 5]) torch.Size([20, 10, 10, 5])\n",
      "torch.Size([10, 10, 5]) torch.Size([10, 10, 5])\n"
     ]
    }
   ],
   "source": [
    "# LayerNorm\n",
    "N, C, H, W = 20, 5, 10, 10\n",
    "input = torch.randn(N, C, H, W)\n",
    "input = torch.permute(input, (0, 2, 3, 1))\n",
    "layer_norm = nn.LayerNorm([H, W, C])\n",
    "output = layer_norm(input)\n",
    "print(input.shape, output.shape)\n",
    "print(layer_norm.weight.shape, layer_norm.bias.shape)"
   ]
  },
  {
   "cell_type": "code",
   "execution_count": 9,
   "metadata": {},
   "outputs": [
    {
     "ename": "TypeError",
     "evalue": "can't assign a numpy.ndarray to a torch.FloatTensor",
     "output_type": "error",
     "traceback": [
      "\u001b[0;31m---------------------------------------------------------------------------\u001b[0m",
      "\u001b[0;31mTypeError\u001b[0m                                 Traceback (most recent call last)",
      "Cell \u001b[0;32mIn[9], line 8\u001b[0m\n\u001b[1;32m      2\u001b[0m a \u001b[39m=\u001b[39m [\n\u001b[1;32m      3\u001b[0m     np\u001b[39m.\u001b[39mrandom\u001b[39m.\u001b[39mrand(\u001b[39m4\u001b[39m, \u001b[39m4\u001b[39m, \u001b[39m2\u001b[39m),\n\u001b[1;32m      4\u001b[0m     np\u001b[39m.\u001b[39mrandom\u001b[39m.\u001b[39mrand(\u001b[39m4\u001b[39m, \u001b[39m4\u001b[39m, \u001b[39m2\u001b[39m),\n\u001b[1;32m      5\u001b[0m     np\u001b[39m.\u001b[39mrandom\u001b[39m.\u001b[39mrand(\u001b[39m4\u001b[39m, \u001b[39m4\u001b[39m, \u001b[39m2\u001b[39m),\n\u001b[1;32m      6\u001b[0m ]\n\u001b[1;32m      7\u001b[0m t1 \u001b[39m=\u001b[39m torch\u001b[39m.\u001b[39mzeros((\u001b[39m3\u001b[39m, \u001b[39m4\u001b[39m, \u001b[39m4\u001b[39m, \u001b[39m2\u001b[39m))\n\u001b[0;32m----> 8\u001b[0m t1[\u001b[39m0\u001b[39;49m] \u001b[39m=\u001b[39m a[\u001b[39m0\u001b[39m]\n\u001b[1;32m      9\u001b[0m t1[\u001b[39m1\u001b[39m] \u001b[39m=\u001b[39m a[\u001b[39m1\u001b[39m]\n\u001b[1;32m     10\u001b[0m t1[\u001b[39m2\u001b[39m] \u001b[39m=\u001b[39m a[\u001b[39m2\u001b[39m]\n",
      "\u001b[0;31mTypeError\u001b[0m: can't assign a numpy.ndarray to a torch.FloatTensor"
     ]
    }
   ],
   "source": [
    "# Numpy to Torch by stack and concatenate\n",
    "a = [\n",
    "    np.random.rand(4, 4, 2),\n",
    "    np.random.rand(4, 4, 2),\n",
    "    np.random.rand(4, 4, 2),\n",
    "]\n",
    "t1 = torch.zeros((3, 4, 4, 2))\n",
    "t1[0] = a[0]\n",
    "t1[1] = a[1]\n",
    "t1[2] = a[2]\n",
    "print(t1.dtype, t1.shape)\n",
    "t2 = torch.zeros((12, 4, 4, 2))\n",
    "t2[:4] = a[0]\n",
    "t2[4:8] = a[1]\n",
    "t2[8:] = a[2]\n",
    "print(t2.dtype, t2.shape)"
   ]
  },
  {
   "cell_type": "code",
   "execution_count": 16,
   "metadata": {},
   "outputs": [
    {
     "name": "stdout",
     "output_type": "stream",
     "text": [
      "torch.Size([2, 3])\n"
     ]
    },
    {
     "data": {
      "text/plain": [
       "(torch.Size([1, 2, 3]), True)"
      ]
     },
     "execution_count": 16,
     "metadata": {},
     "output_type": "execute_result"
    }
   ],
   "source": [
    "t = torch.rand(2, 3)\n",
    "print(t.shape)\n",
    "torch.unsqueeze(t, 0).shape, t.dim() == 2"
   ]
  },
  {
   "cell_type": "code",
   "execution_count": 19,
   "metadata": {},
   "outputs": [
    {
     "data": {
      "text/plain": [
       "(True, False, True)"
      ]
     },
     "execution_count": 19,
     "metadata": {},
     "output_type": "execute_result"
    }
   ],
   "source": [
    "t1 = torch.rand(5, 6, 2)\n",
    "t2 = torch.permute(t1, (2, 0, 1))\n",
    "torch.allclose(t1[..., 0], t2[0, ...]), torch.allclose(t1[..., 1], t2[0, ...]), torch.allclose(t1[..., 1], t2[1, ...])"
   ]
  },
  {
   "cell_type": "code",
   "execution_count": null,
   "metadata": {},
   "outputs": [],
   "source": []
  }
 ],
 "metadata": {
  "kernelspec": {
   "display_name": "sdp_py310",
   "language": "python",
   "name": "python3"
  },
  "language_info": {
   "codemirror_mode": {
    "name": "ipython",
    "version": 3
   },
   "file_extension": ".py",
   "mimetype": "text/x-python",
   "name": "python",
   "nbconvert_exporter": "python",
   "pygments_lexer": "ipython3",
   "version": "3.10.12"
  },
  "orig_nbformat": 4
 },
 "nbformat": 4,
 "nbformat_minor": 2
}

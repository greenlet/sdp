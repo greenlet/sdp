{
 "cells": [
  {
   "cell_type": "code",
   "execution_count": 17,
   "metadata": {},
   "outputs": [],
   "source": [
    "from pathlib import Path\n",
    "import os\n",
    "import sys\n",
    "if '..' not in sys.path:\n",
    "    sys.path.append('..')\n",
    "\n",
    "import numpy as np\n",
    "import open3d as o3d\n",
    "\n",
    "from sdp.ds.bop_data import BopModelsInfo, read_models_info"
   ]
  },
  {
   "cell_type": "code",
   "execution_count": 18,
   "metadata": {},
   "outputs": [
    {
     "name": "stdout",
     "output_type": "stream",
     "text": [
      "BOP path: /Users/misha/data/bop\n"
     ]
    }
   ],
   "source": [
    "DATA_PATH = Path(os.path.expandvars('$HOME/data'))\n",
    "BOP_PATH = DATA_PATH / 'bop'\n",
    "ITODD_SUBDIR = 'itodd'\n",
    "ITODD_BOP_PATH = BOP_PATH / ITODD_SUBDIR\n",
    "print(f'BOP path: {BOP_PATH}')"
   ]
  },
  {
   "cell_type": "code",
   "execution_count": 19,
   "metadata": {},
   "outputs": [],
   "source": [
    "obj_path = DATA_PATH / 'sds_data' / 'objs' / 'teamug.stl'\n",
    "mesh = o3d.io.read_triangle_mesh(str(obj_path), True)"
   ]
  },
  {
   "cell_type": "code",
   "execution_count": 20,
   "metadata": {},
   "outputs": [
    {
     "data": {
      "text/plain": [
       "(std::vector<Eigen::Vector3d> with 129251 elements.\n",
       " Use numpy.asarray() to access data.,\n",
       " std::vector<Eigen::Vector3i> with 59328 elements.\n",
       " Use numpy.asarray() to access data.)"
      ]
     },
     "execution_count": 20,
     "metadata": {},
     "output_type": "execute_result"
    }
   ],
   "source": [
    "mesh.vertices, mesh.triangles"
   ]
  },
  {
   "cell_type": "code",
   "execution_count": 21,
   "metadata": {},
   "outputs": [
    {
     "name": "stdout",
     "output_type": "stream",
     "text": [
      "(129251, 3) float64 -0.24444793164730072 -0.00841415762465798 0.2220826894044876\n",
      "(59328, 3) int32 0 63898.17107155699 129250\n"
     ]
    }
   ],
   "source": [
    "vs, ts = np.asarray(mesh.vertices), np.asarray(mesh.triangles)\n",
    "print(vs.shape, vs.dtype, vs.min(), vs.mean(), vs.max())\n",
    "print(ts.shape, ts.dtype, ts.min(), ts.mean(), ts.max())"
   ]
  },
  {
   "cell_type": "code",
   "execution_count": 23,
   "metadata": {},
   "outputs": [],
   "source": [
    "models_path = ITODD_BOP_PATH / 'models'\n",
    "models_info_path = models_path / 'models_info.json'\n",
    "models_info = read_models_info(models_info_path)\n"
   ]
  },
  {
   "cell_type": "code",
   "execution_count": null,
   "metadata": {},
   "outputs": [],
   "source": []
  },
  {
   "cell_type": "code",
   "execution_count": null,
   "metadata": {},
   "outputs": [],
   "source": []
  },
  {
   "cell_type": "code",
   "execution_count": null,
   "metadata": {},
   "outputs": [],
   "source": []
  }
 ],
 "metadata": {
  "kernelspec": {
   "display_name": "sdp_py310",
   "language": "python",
   "name": "python3"
  },
  "language_info": {
   "codemirror_mode": {
    "name": "ipython",
    "version": 3
   },
   "file_extension": ".py",
   "mimetype": "text/x-python",
   "name": "python",
   "nbconvert_exporter": "python",
   "pygments_lexer": "ipython3",
   "version": "3.10.12"
  },
  "orig_nbformat": 4
 },
 "nbformat": 4,
 "nbformat_minor": 2
}

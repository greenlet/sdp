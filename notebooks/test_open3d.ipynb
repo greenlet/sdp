{
 "cells": [
  {
   "cell_type": "code",
   "execution_count": 13,
   "metadata": {},
   "outputs": [
    {
     "name": "stdout",
     "output_type": "stream",
     "text": [
      "The autoreload extension is already loaded. To reload it, use:\n",
      "  %reload_ext autoreload\n"
     ]
    }
   ],
   "source": [
    "%load_ext autoreload\n",
    "%autoreload 2"
   ]
  },
  {
   "cell_type": "code",
   "execution_count": 14,
   "metadata": {},
   "outputs": [],
   "source": [
    "from pathlib import Path\n",
    "import os\n",
    "import sys\n",
    "if '..' not in sys.path:\n",
    "    sys.path.append('..')\n",
    "\n",
    "import numpy as np\n",
    "import open3d as o3d\n",
    "\n",
    "from sdp.ds.bop_data import BopModelsInfo, read_models_info, id_to_str"
   ]
  },
  {
   "cell_type": "code",
   "execution_count": 15,
   "metadata": {},
   "outputs": [
    {
     "name": "stdout",
     "output_type": "stream",
     "text": [
      "BOP path: /Users/misha/data/bop\n"
     ]
    }
   ],
   "source": [
    "DATA_PATH = Path(os.path.expandvars('$HOME/data'))\n",
    "BOP_PATH = DATA_PATH / 'bop'\n",
    "ITODD_SUBDIR = 'itodd'\n",
    "ITODD_BOP_PATH = BOP_PATH / ITODD_SUBDIR\n",
    "print(f'BOP path: {BOP_PATH}')"
   ]
  },
  {
   "cell_type": "code",
   "execution_count": 16,
   "metadata": {},
   "outputs": [],
   "source": [
    "obj_path = DATA_PATH / 'sds_data' / 'objs' / 'teamug.stl'\n",
    "mesh = o3d.io.read_triangle_mesh(str(obj_path), True)"
   ]
  },
  {
   "cell_type": "code",
   "execution_count": 17,
   "metadata": {},
   "outputs": [
    {
     "data": {
      "text/plain": [
       "(std::vector<Eigen::Vector3d> with 129251 elements.\n",
       " Use numpy.asarray() to access data.,\n",
       " std::vector<Eigen::Vector3i> with 59328 elements.\n",
       " Use numpy.asarray() to access data.,\n",
       " std::vector<Eigen::Vector3d> with 129251 elements.\n",
       " Use numpy.asarray() to access data.,\n",
       " std::vector<Eigen::Vector3d> with 59328 elements.\n",
       " Use numpy.asarray() to access data.)"
      ]
     },
     "execution_count": 17,
     "metadata": {},
     "output_type": "execute_result"
    }
   ],
   "source": [
    "mesh.compute_triangle_normals()\n",
    "mesh.compute_vertex_normals()\n",
    "mesh.vertices, mesh.triangles, mesh.vertex_normals, mesh.triangle_normals"
   ]
  },
  {
   "cell_type": "code",
   "execution_count": 6,
   "metadata": {},
   "outputs": [
    {
     "name": "stdout",
     "output_type": "stream",
     "text": [
      "(129251, 3) float64 -0.24444793164730072 -0.00841415762465798 0.2220826894044876\n",
      "(59328, 3) int32 0 63898.17107155699 129250\n"
     ]
    }
   ],
   "source": [
    "vs, ts = np.asarray(mesh.vertices), np.asarray(mesh.triangles)\n",
    "print(vs.shape, vs.dtype, vs.min(), vs.mean(), vs.max())\n",
    "print(ts.shape, ts.dtype, ts.min(), ts.mean(), ts.max())"
   ]
  },
  {
   "cell_type": "code",
   "execution_count": 21,
   "metadata": {},
   "outputs": [
    {
     "data": {
      "text/plain": [
       "True"
      ]
     },
     "execution_count": 21,
     "metadata": {},
     "output_type": "execute_result"
    }
   ],
   "source": [
    "norms = np.asarray(mesh.vertex_normals)\n",
    "np.allclose(np.linalg.norm(norms, axis=1), 1)"
   ]
  },
  {
   "cell_type": "code",
   "execution_count": 7,
   "metadata": {},
   "outputs": [],
   "source": [
    "models_path = ITODD_BOP_PATH / 'models'\n",
    "models_info_path = models_path / 'models_info.json'\n",
    "models_info = read_models_info(models_info_path)\n"
   ]
  },
  {
   "cell_type": "code",
   "execution_count": 8,
   "metadata": {},
   "outputs": [
    {
     "data": {
      "text/plain": [
       "BopModelInfo(model_id=1, diameter=64.0944, pt_min=array([-25.5  , -22.639, -10.759]), pt_max=array([25.5  , 22.639, 10.759]), size=array([51.   , 45.278, 21.518]), syms_discrete=[], syms_continuous=[])"
      ]
     },
     "execution_count": 8,
     "metadata": {},
     "output_type": "execute_result"
    }
   ],
   "source": [
    "models_info[1]"
   ]
  },
  {
   "cell_type": "code",
   "execution_count": 9,
   "metadata": {},
   "outputs": [
    {
     "name": "stdout",
     "output_type": "stream",
     "text": [
      "BopModelInfo(model_id=1, diameter=64.0944, pt_min=array([-25.5  , -22.639, -10.759]), pt_max=array([25.5  , 22.639, 10.759]), size=array([51.   , 45.278, 21.518]), syms_discrete=[], syms_continuous=[]) <class 'sdp.ds.bop_data.BopModelInfo'>\n",
      "Loading /Users/misha/data/bop/itodd/models/obj_000001.ply\n"
     ]
    },
    {
     "data": {
      "text/plain": [
       "TriangleMesh with 657 points and 1338 triangles."
      ]
     },
     "execution_count": 9,
     "metadata": {},
     "output_type": "execute_result"
    }
   ],
   "source": [
    "model_info = models_info[1]\n",
    "model_fpath = models_path / f'obj_{id_to_str(model_info.model_id)}.ply'\n",
    "print(f'Loading {model_fpath}')\n",
    "mesh_o3d = o3d.io.read_triangle_mesh(str(model_fpath), True)\n",
    "mesh_o3d"
   ]
  },
  {
   "cell_type": "code",
   "execution_count": 22,
   "metadata": {},
   "outputs": [
    {
     "data": {
      "text/plain": [
       "(-25.5, 0.7481359236732621, 25.5)"
      ]
     },
     "execution_count": 22,
     "metadata": {},
     "output_type": "execute_result"
    }
   ],
   "source": [
    "verts = np.asarray(mesh_o3d.vertices)\n",
    "verts.min(), verts.mean(), verts.max()"
   ]
  }
 ],
 "metadata": {
  "kernelspec": {
   "display_name": "sdp_py310",
   "language": "python",
   "name": "python3"
  },
  "language_info": {
   "codemirror_mode": {
    "name": "ipython",
    "version": 3
   },
   "file_extension": ".py",
   "mimetype": "text/x-python",
   "name": "python",
   "nbconvert_exporter": "python",
   "pygments_lexer": "ipython3",
   "version": "3.10.12"
  },
  "orig_nbformat": 4
 },
 "nbformat": 4,
 "nbformat_minor": 2
}

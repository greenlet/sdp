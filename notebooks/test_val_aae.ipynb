{
 "cells": [
  {
   "cell_type": "code",
   "execution_count": 1,
   "metadata": {},
   "outputs": [],
   "source": [
    "%load_ext autoreload\n",
    "%autoreload 2"
   ]
  },
  {
   "cell_type": "code",
   "execution_count": 3,
   "metadata": {},
   "outputs": [],
   "source": [
    "import argparse\n",
    "from dataclasses import dataclass\n",
    "from datetime import datetime as dt\n",
    "import json\n",
    "import os\n",
    "from pathlib import Path\n",
    "from pprint import pprint\n",
    "import sys\n",
    "if '..' not in sys.path:\n",
    "    sys.path.append('..')\n",
    "import shutil\n",
    "import traceback\n",
    "from typing import Union, Any, Optional\n",
    "import yaml\n",
    "\n",
    "from matplotlib import pyplot as plt\n",
    "import numpy as np\n",
    "import pandas as pd\n",
    "import torch\n",
    "\n",
    "from sdp.ds.bop_data import read_models_info, read_scene_camera, read_scene_gt, \\\n",
    "    read_scene_gt_info\n",
    "from sdp.ds.bop_dataset import BopDataset\n",
    "from sdp.ds.bop_dataset import AUGNAME_DEFAULT\n",
    "from sdp.models.segmenter.factory import create_segmenter\n",
    "from sdp.ds.emb_dataset import EmbDataset\n",
    "from segm.optim.factory import create_optimizer, create_scheduler\n"
   ]
  },
  {
   "cell_type": "code",
   "execution_count": 4,
   "metadata": {},
   "outputs": [
    {
     "name": "stdout",
     "output_type": "stream",
     "text": [
      "BOP path: /Users/misha/data/bop\n"
     ]
    }
   ],
   "source": [
    "DATA_PATH = Path(os.path.expandvars('$HOME/data'))\n",
    "BOP_PATH = DATA_PATH / 'bop'\n",
    "ITODD_SUBDIR = 'itodd'\n",
    "ITODD_BOP_PATH = BOP_PATH / ITODD_SUBDIR\n",
    "print(f'BOP path: {BOP_PATH}')\n",
    "TRAIN_ROOT_PATH = DATA_PATH / 'train_aae'"
   ]
  },
  {
   "cell_type": "code",
   "execution_count": 5,
   "metadata": {},
   "outputs": [
    {
     "name": "stdout",
     "output_type": "stream",
     "text": [
      "Reading dataset from /Users/misha/data/bop/itodd/.sdp/v0.0.1\n"
     ]
    }
   ],
   "source": [
    "ds = BopDataset.from_dir(BOP_PATH, ITODD_SUBDIR, shuffle=False)\n"
   ]
  },
  {
   "cell_type": "code",
   "execution_count": 11,
   "metadata": {},
   "outputs": [
    {
     "name": "stdout",
     "output_type": "stream",
     "text": [
      "EmbDataset reading cache from /Users/misha/data/bop/itodd/.sdp/v0.0.1/ds_itodd_obj_1_imsz_256_20231024_214603\n"
     ]
    }
   ],
   "source": [
    "train_subdir = 'ds_itodd_obj_1_imsz_256_20231024_214603'\n",
    "emb_ds = EmbDataset.read_cache(ds.get_cache_path() / train_subdir)"
   ]
  },
  {
   "cell_type": "code",
   "execution_count": 12,
   "metadata": {},
   "outputs": [
    {
     "data": {
      "text/plain": [
       "((200,), dtype('int64'), (200, 1000), dtype('float32'))"
      ]
     },
     "execution_count": 12,
     "metadata": {},
     "output_type": "execute_result"
    }
   ],
   "source": [
    "emb_ds.obj_ds_ids.shape, emb_ds.obj_ds_ids.dtype, emb_ds.embs.shape, emb_ds.embs.dtype"
   ]
  },
  {
   "cell_type": "code",
   "execution_count": null,
   "metadata": {},
   "outputs": [],
   "source": []
  }
 ],
 "metadata": {
  "kernelspec": {
   "display_name": "sdp_py310",
   "language": "python",
   "name": "python3"
  },
  "language_info": {
   "codemirror_mode": {
    "name": "ipython",
    "version": 3
   },
   "file_extension": ".py",
   "mimetype": "text/x-python",
   "name": "python",
   "nbconvert_exporter": "python",
   "pygments_lexer": "ipython3",
   "version": "3.10.12"
  },
  "orig_nbformat": 4
 },
 "nbformat": 4,
 "nbformat_minor": 2
}

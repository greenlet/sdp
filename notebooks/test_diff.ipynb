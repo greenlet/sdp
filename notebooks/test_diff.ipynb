{
 "cells": [
  {
   "cell_type": "code",
   "execution_count": 2,
   "metadata": {},
   "outputs": [],
   "source": [
    "%load_ext autoreload\n",
    "%autoreload 2"
   ]
  },
  {
   "cell_type": "code",
   "execution_count": 5,
   "metadata": {},
   "outputs": [],
   "source": [
    "import os\n",
    "from pathlib import Path\n",
    "from typing import Generator, Any\n",
    "\n",
    "import numpy as np"
   ]
  },
  {
   "cell_type": "code",
   "execution_count": 13,
   "metadata": {},
   "outputs": [],
   "source": [
    "def it(n: int) -> Generator[int, Any, Any]:\n",
    "    for i in range(n):\n",
    "        print(f'it. i = {i}')\n",
    "        try:\n",
    "            y_res = yield i\n",
    "            print(f'it. y_res = {y_res}')\n",
    "        except StopIteration:\n",
    "            print('it. Stop!!!')"
   ]
  },
  {
   "cell_type": "code",
   "execution_count": 14,
   "metadata": {},
   "outputs": [
    {
     "name": "stdout",
     "output_type": "stream",
     "text": [
      "it. i = 0\n",
      "val = 0\n",
      "it. y_res = None\n",
      "it. i = 1\n",
      "val = 1\n",
      "it. y_res = None\n",
      "it. i = 2\n",
      "val = 2\n",
      "it. y_res = None\n",
      "it. i = 3\n",
      "val = 3\n",
      "it. y_res = None\n",
      "it. i = 4\n",
      "val = 4\n"
     ]
    },
    {
     "ename": "StopIteration",
     "evalue": "",
     "output_type": "error",
     "traceback": [
      "\u001b[0;31m---------------------------------------------------------------------------\u001b[0m",
      "\u001b[0;31mStopIteration\u001b[0m                             Traceback (most recent call last)",
      "Cell \u001b[0;32mIn[14], line 7\u001b[0m\n\u001b[1;32m      5\u001b[0m \u001b[39mif\u001b[39;00m i \u001b[39m==\u001b[39m \u001b[39m4\u001b[39m:\n\u001b[1;32m      6\u001b[0m     t\u001b[39m.\u001b[39mclose()\n\u001b[0;32m----> 7\u001b[0m     t\u001b[39m.\u001b[39;49msend(\u001b[39m22\u001b[39;49m)\n",
      "\u001b[0;31mStopIteration\u001b[0m: "
     ]
    }
   ],
   "source": [
    "t = it(10)\n",
    "for i in range(5):\n",
    "    val = next(t)\n",
    "    print(f'val = {val}')\n",
    "    if i == 4:\n",
    "        t.close()\n",
    "        # t.send(22)\n"
   ]
  },
  {
   "cell_type": "code",
   "execution_count": null,
   "metadata": {},
   "outputs": [],
   "source": []
  },
  {
   "cell_type": "code",
   "execution_count": null,
   "metadata": {},
   "outputs": [],
   "source": []
  },
  {
   "cell_type": "code",
   "execution_count": null,
   "metadata": {},
   "outputs": [],
   "source": []
  },
  {
   "cell_type": "code",
   "execution_count": null,
   "metadata": {},
   "outputs": [],
   "source": []
  },
  {
   "cell_type": "code",
   "execution_count": null,
   "metadata": {},
   "outputs": [],
   "source": []
  }
 ],
 "metadata": {
  "kernelspec": {
   "display_name": "sdp_py310",
   "language": "python",
   "name": "python3"
  },
  "language_info": {
   "codemirror_mode": {
    "name": "ipython",
    "version": 3
   },
   "file_extension": ".py",
   "mimetype": "text/x-python",
   "name": "python",
   "nbconvert_exporter": "python",
   "pygments_lexer": "ipython3",
   "version": "3.10.12"
  },
  "orig_nbformat": 4
 },
 "nbformat": 4,
 "nbformat_minor": 2
}

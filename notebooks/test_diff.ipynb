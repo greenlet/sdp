{
 "cells": [
  {
   "cell_type": "code",
   "execution_count": 2,
   "metadata": {},
   "outputs": [],
   "source": [
    "%load_ext autoreload\n",
    "%autoreload 2"
   ]
  },
  {
   "cell_type": "code",
   "execution_count": 28,
   "metadata": {},
   "outputs": [],
   "source": [
    "import os\n",
    "from pathlib import Path\n",
    "from typing import Generator, Any\n",
    "\n",
    "import numpy as np\n",
    "import torch"
   ]
  },
  {
   "cell_type": "code",
   "execution_count": 21,
   "metadata": {},
   "outputs": [],
   "source": [
    "def it(n: int) -> Generator[int, Any, Any]:\n",
    "    for i in range(n):\n",
    "        print(f'it. i = {i}')\n",
    "        try:\n",
    "            y_res = yield i\n",
    "            print(f'it. y_res = {y_res}')\n",
    "        except GeneratorExit:\n",
    "            print('it. Stop!!!')\n",
    "            break"
   ]
  },
  {
   "cell_type": "code",
   "execution_count": 22,
   "metadata": {},
   "outputs": [
    {
     "name": "stdout",
     "output_type": "stream",
     "text": [
      "it. i = 0\n",
      "val = 0\n",
      "it. y_res = None\n",
      "it. i = 1\n",
      "val = 1\n",
      "it. y_res = None\n",
      "it. i = 2\n",
      "val = 2\n",
      "it. y_res = None\n",
      "it. i = 3\n",
      "val = 3\n",
      "it. y_res = None\n",
      "it. i = 4\n",
      "val = 4\n",
      "it. Stop!!!\n"
     ]
    }
   ],
   "source": [
    "t = it(10)\n",
    "for i in range(5):\n",
    "    val = next(t)\n",
    "    print(f'val = {val}')\n",
    "    if i == 4:\n",
    "        t.close()\n",
    "        # t.send(22)\n"
   ]
  },
  {
   "cell_type": "code",
   "execution_count": 8,
   "metadata": {},
   "outputs": [],
   "source": [
    "class ItCont:\n",
    "    def __init__(self, n: int) -> None:\n",
    "        self.n = n\n",
    "        self.i = 0\n",
    "\n",
    "    def __iter__(self):\n",
    "        return self\n",
    "    \n",
    "    def __next__(self):\n",
    "        try:\n",
    "            if self.i < self.n:\n",
    "                i = self.i\n",
    "                self.i += 1\n",
    "                return i\n",
    "        except StopIteration:\n",
    "            print('__next__ StopIteration!')\n",
    "        raise StopIteration()\n",
    "\n",
    "\n",
    "        "
   ]
  },
  {
   "cell_type": "code",
   "execution_count": 10,
   "metadata": {},
   "outputs": [
    {
     "name": "stdout",
     "output_type": "stream",
     "text": [
      "0\n",
      "1\n",
      "2\n",
      "3\n"
     ]
    }
   ],
   "source": [
    "itc = ItCont(7)\n",
    "for x in range(4):\n",
    "    i = next(itc)\n",
    "    print(i)"
   ]
  },
  {
   "cell_type": "code",
   "execution_count": null,
   "metadata": {},
   "outputs": [],
   "source": []
  },
  {
   "cell_type": "code",
   "execution_count": null,
   "metadata": {},
   "outputs": [],
   "source": []
  },
  {
   "cell_type": "code",
   "execution_count": 29,
   "metadata": {},
   "outputs": [
    {
     "data": {
      "text/plain": [
       "12"
      ]
     },
     "execution_count": 29,
     "metadata": {},
     "output_type": "execute_result"
    }
   ],
   "source": [
    "os.cpu_count()"
   ]
  },
  {
   "cell_type": "code",
   "execution_count": 27,
   "metadata": {},
   "outputs": [
    {
     "data": {
      "text/plain": [
       "True"
      ]
     },
     "execution_count": 27,
     "metadata": {},
     "output_type": "execute_result"
    }
   ],
   "source": [
    "torch.backends.mps.is_available()"
   ]
  }
 ],
 "metadata": {
  "kernelspec": {
   "display_name": "sdp_py310",
   "language": "python",
   "name": "python3"
  },
  "language_info": {
   "codemirror_mode": {
    "name": "ipython",
    "version": 3
   },
   "file_extension": ".py",
   "mimetype": "text/x-python",
   "name": "python",
   "nbconvert_exporter": "python",
   "pygments_lexer": "ipython3",
   "version": "3.10.13"
  },
  "orig_nbformat": 4
 },
 "nbformat": 4,
 "nbformat_minor": 2
}
